{
  "cells": [
    {
      "cell_type": "markdown",
      "metadata": {
        "id": "view-in-github",
        "colab_type": "text"
      },
      "source": [
        "<a href=\"https://colab.research.google.com/github/oprah2018/algorithm/blob/main/sorting_algo_ik.ipynb\" target=\"_parent\"><img src=\"https://colab.research.google.com/assets/colab-badge.svg\" alt=\"Open In Colab\"/></a>"
      ]
    },
    {
      "cell_type": "code",
      "source": [
        "def heap_sort(arr):\n",
        "    n = len(arr)\n",
        "    for i in range(n//2 - 1, -1, -1):\n",
        "        heapify(arr, n, i)\n",
        "    return arr\n",
        "def heapify(arr, n, i):\n",
        "    root = i\n",
        "    left = 2*i + 1\n",
        "    right = 2*i + 2\n",
        "\n",
        "    if left < n and arr[left] > root:\n",
        "        root = left\n",
        "\n",
        "    if right < n and arr[right] > root:\n",
        "        root = right\n",
        "\n",
        "    if root != i:\n",
        "        arr[i], arr[root] = arr[root], arr[i]\n",
        "        heapify(arr, n, root)"
      ],
      "metadata": {
        "id": "aVSK1zttTMar"
      },
      "execution_count": null,
      "outputs": []
    },
    {
      "cell_type": "code",
      "source": [
        "arr = [5, 8, 3, 9, 4, 1, 7]\n",
        "\n",
        "def heap_sort(arr):\n",
        "    n = len(arr)\n",
        "    for i in range(n // 2 - 1, -1, -1):\n",
        "        heapify(arr, n, i)\n",
        "\n",
        "    for i in range(n - 1, 0, -1):\n",
        "        arr[i], arr[0] = arr[0], arr[i]\n",
        "        heapify(arr, i, 0)\n",
        "    return arr\n",
        "\n",
        "def heapify(arr, n, i):\n",
        "    root = i\n",
        "    left = 2 * i + 1\n",
        "    right = 2 * i + 2\n",
        "\n",
        "    if left < n and arr[left] > arr[root]:\n",
        "        root = left\n",
        "\n",
        "    if right < n and arr[right] > arr[root]:\n",
        "        root = right\n",
        "\n",
        "    if root != i:\n",
        "        arr[i], arr[root] = arr[root], arr[i]\n",
        "        heapify(arr, n, root)\n",
        "\n",
        "heap_sort(arr)\n",
        "print(\"Sorted array:\", arr)\n"
      ],
      "metadata": {
        "colab": {
          "base_uri": "https://localhost:8080/"
        },
        "id": "fZVOT96FWJvO",
        "outputId": "b7cebf4f-d822-47ec-c021-9d67758f762d"
      },
      "execution_count": null,
      "outputs": [
        {
          "output_type": "stream",
          "name": "stdout",
          "text": [
            "Sorted array: [1, 3, 4, 5, 7, 8, 9]\n"
          ]
        }
      ]
    },
    {
      "cell_type": "code",
      "source": [
        "class Person:\n",
        "  def __init__(self, ssn, name, dob):\n",
        "    self.ssn = ssn\n",
        "    self.name = name\n",
        "    self.date_of_birth = dob\n",
        "\n",
        "  def print_details(self):\n",
        "    print(\"Name: \", self.name)\n",
        "    print(\"Date of birth: \", self.date_of_birth)\n",
        "    print(\"social security number: \", self.ssn)\n",
        "\n",
        "\n",
        "  def update_name(self, new_name):\n",
        "    self.name = new_name\n",
        "    print(\"Name updated successfully\")"
      ],
      "metadata": {
        "id": "pAC8Llqx20QY"
      },
      "execution_count": null,
      "outputs": []
    },
    {
      "cell_type": "code",
      "source": [
        "class Employee(Person):\n",
        "  def __init__(self, name, dob, ssn, department, salary):\n",
        "    self.department = department\n",
        "    self.salary = salary\n",
        "    Person.__init__(self, ssn, name, dob)\n",
        "\n",
        "  def employee_details(self):\n",
        "    print(\"Name: \", self.name)\n",
        "    print(\"Department: \", self.department)\n",
        "    print(\"Salary: \", self.salary)\n",
        "\n",
        "  def change_department(self, new_department):\n",
        "    self.department = new_department\n"
      ],
      "metadata": {
        "id": "dvbiCruKt8c7"
      },
      "execution_count": null,
      "outputs": []
    },
    {
      "cell_type": "code",
      "source": [
        "emp1 = Employee(\"Ngongang\", \"06/01/1987\", \"2407277941\", \"SRE\", 170000)"
      ],
      "metadata": {
        "id": "xWsR4pQIvwUt"
      },
      "execution_count": null,
      "outputs": []
    },
    {
      "cell_type": "code",
      "source": [
        "emp1.employee_details()"
      ],
      "metadata": {
        "colab": {
          "base_uri": "https://localhost:8080/"
        },
        "id": "1dGfuB9qxMva",
        "outputId": "a772449b-29d5-4af9-b4f2-5c572f6122a0"
      },
      "execution_count": null,
      "outputs": [
        {
          "output_type": "stream",
          "name": "stdout",
          "text": [
            "Name:  Ngongang\n",
            "Department:  SRE\n",
            "Salary:  170000\n"
          ]
        }
      ]
    },
    {
      "cell_type": "code",
      "source": [
        "emp1.change_department(\"HR\")\n",
        "emp1.employee_details()\n"
      ],
      "metadata": {
        "colab": {
          "base_uri": "https://localhost:8080/"
        },
        "id": "dmUufBf8xnX6",
        "outputId": "1a5698a8-4ed6-4332-ea21-45f9cf56b30a"
      },
      "execution_count": null,
      "outputs": [
        {
          "output_type": "stream",
          "name": "stdout",
          "text": [
            "Name:  Ngongang\n",
            "Department:  HR\n",
            "Salary:  170000\n"
          ]
        }
      ]
    },
    {
      "cell_type": "code",
      "source": [
        "class Date:\n",
        "  def __init__(self, month, date, year):\n",
        "    self.month = month\n",
        "    self.date = date\n",
        "    self.year = year\n",
        "\n",
        "  def __repr__(self):\n",
        "    return f\"{self.month}/{self.date}/{self.year}\"\n",
        "\n",
        "  def next_date(self):\n",
        "    if self.month in [1,3,5,7,8,10]:\n",
        "      if date == 30:\n",
        "        if self.month == 12:\n",
        "          self.year += 1\n",
        "        self.month +=  1\n",
        "        self.date = 1\n",
        "\n"
      ],
      "metadata": {
        "id": "0OH2Wx501S_V"
      },
      "execution_count": null,
      "outputs": []
    },
    {
      "cell_type": "code",
      "source": [
        "date = Date(6,1,1987)\n",
        "print(date)"
      ],
      "metadata": {
        "colab": {
          "base_uri": "https://localhost:8080/"
        },
        "id": "bBXWk3mU4H8h",
        "outputId": "6f169bd0-a60a-4d04-ba9b-699793e7939f"
      },
      "execution_count": null,
      "outputs": [
        {
          "output_type": "stream",
          "name": "stdout",
          "text": [
            "6/1/1987\n"
          ]
        }
      ]
    },
    {
      "cell_type": "code",
      "source": [
        "arr = [2,3,6,9,13,14,23,28,30]\n",
        "def binary_search(arr, start, end, target):\n",
        "    if start <= end:\n",
        "      mid = start + (end - start)//2\n",
        "\n",
        "      if arr[mid] < target:\n",
        "        return binary_search(arr, mid + 1, end, target)\n",
        "      elif arr[mid] > target:\n",
        "        return binary_search(arr, start, mid - 1, target)\n",
        "      elif arr[mid] == target:\n",
        "        return mid\n",
        "    else:\n",
        "      return -1\n",
        "\n",
        "binary_search(arr, 0, len(arr) - 1, 30)"
      ],
      "metadata": {
        "colab": {
          "base_uri": "https://localhost:8080/"
        },
        "id": "aQW_1zvnpUN5",
        "outputId": "773b7f25-e861-4736-d51e-b960e265616a"
      },
      "execution_count": null,
      "outputs": [
        {
          "output_type": "execute_result",
          "data": {
            "text/plain": [
              "8"
            ]
          },
          "metadata": {},
          "execution_count": 11
        }
      ]
    },
    {
      "cell_type": "code",
      "source": [
        "def binary_string(n):\n",
        "  if n == 0:\n",
        "    return 1\n",
        "  helper(\"\", n)\n",
        "\n",
        "def helper(slate, n):\n",
        "  if n == 0:\n",
        "    return slate\n",
        "  else:\n",
        "    helper(slate + \"0\", n-1)\n",
        "    helper(slate + \"1\", n-1)\n",
        "\n",
        "binary_string(5)"
      ],
      "metadata": {
        "colab": {
          "base_uri": "https://localhost:8080/"
        },
        "id": "65Iafd9yyNpf",
        "outputId": "1ac1c83e-71da-4483-8c8e-3942e4c2bb69"
      },
      "execution_count": null,
      "outputs": [
        {
          "output_type": "stream",
          "name": "stdout",
          "text": [
            "['00000', '00001', '00010', '00011', '00100', '00101', '00110', '00111', '01000', '01001', '01010', '01011', '01100', '01101', '01110', '01111', '10000', '10001', '10010', '10011', '10100', '10101', '10110', '10111', '11000', '11001', '11010', '11011', '11100', '11101', '11110', '11111']\n"
          ]
        }
      ]
    },
    {
      "cell_type": "code",
      "source": [
        "arr = [5,9,0,19,0,2,0,0,11]\n",
        "def move_zero(arr):\n",
        "  if len(arr) <= 1:\n",
        "    return arr\n",
        "  j = 0\n",
        "  for i in range(len(arr)):\n",
        "    if arr[i] != 0:\n",
        "      arr[i], arr[j] = arr[j], arr[i]\n",
        "      j += 1\n",
        "  return arr\n",
        "move_zero(arr)"
      ],
      "metadata": {
        "colab": {
          "base_uri": "https://localhost:8080/"
        },
        "id": "LL3xTop2NkIP",
        "outputId": "fd0776f8-9663-481b-b6d9-66b62419fc7b"
      },
      "execution_count": null,
      "outputs": [
        {
          "output_type": "execute_result",
          "data": {
            "text/plain": [
              "[5, 9, 19, 2, 11, 0, 0, 0, 0]"
            ]
          },
          "metadata": {},
          "execution_count": 1
        }
      ]
    },
    {
      "cell_type": "code",
      "source": [
        "arr = [34, 23, 1, 24, 75, 33, 54, 8]\n",
        "def two_sum_less_than_K(arr, k):\n",
        "  if len(arr) <= 1:\n",
        "    return False\n",
        "\n",
        "  arr.sort()\n",
        "  i = 0\n",
        "  result = -1\n",
        "\n",
        "  while j > len(arr):\n",
        "    curr_sum = arr[i] + arr[j]\n",
        "    if curr_sum == k:\n",
        "      result = max(result, curr_sum)\n",
        "\n"
      ],
      "metadata": {
        "id": "uN-wm7beQG20"
      },
      "execution_count": null,
      "outputs": []
    },
    {
      "cell_type": "code",
      "source": [
        "def anagram_digit(arr):\n",
        "  if not arr:\n",
        "    return 0\n",
        "  count = 0\n",
        "  string_sorted_list = []\n",
        "  for i in arr:\n",
        "    sorted_string = \"\".join(sorted(str(i)))\n",
        "    count += string_sorted_list.count(sorted_string)\n",
        "    string_sorted_list.append(sorted_string)\n",
        "  return count\n",
        "anagram_digit([25, 35, 872, 228, 53, 278, 872])\n"
      ],
      "metadata": {
        "colab": {
          "base_uri": "https://localhost:8080/"
        },
        "id": "ItxLsQanNeuB",
        "outputId": "7223a77e-6b7c-42e7-966e-f4daf6030f0b"
      },
      "execution_count": null,
      "outputs": [
        {
          "output_type": "execute_result",
          "data": {
            "text/plain": [
              "4"
            ]
          },
          "metadata": {},
          "execution_count": 1
        }
      ]
    },
    {
      "cell_type": "code",
      "source": [
        "# def subsets_with_duplicates(s):\n",
        "#     result = []\n",
        "#     backtrack(sorted(s), 0, [], result, set())\n",
        "#     return result\n",
        "\n",
        "# def backtrack(s, i, slate, result, seen):\n",
        "#     if i == len(s):\n",
        "#         subset = ''.join(slate[:])\n",
        "#         if subset not in seen:\n",
        "#             result.append(subset)\n",
        "#             seen.add(subset)\n",
        "#         return\n",
        "\n",
        "#     backtrack(s, i + 1, slate, result, seen)  # Exclude current character\n",
        "#     slate.append(s[i])\n",
        "#     backtrack(s, i + 1, slate, result, seen)  # Include current character\n",
        "#     slate.pop()\n",
        "\n",
        "# # Example usage\n",
        "# string = \"abac\"\n",
        "# result = subsets_with_duplicates(string)\n",
        "# print(result)\n",
        "\n",
        "\n",
        "def subsets_with_duplicates(s):\n",
        "    result = []\n",
        "    backtrack(sorted(s), 0, [], result)\n",
        "    return result\n",
        "\n",
        "def backtrack(s, i, slate, result):\n",
        "    if i == len(s):\n",
        "        subset = ''.join(slate[:])\n",
        "        if subset not in result:  # Check if subset is already in result\n",
        "            result.append(subset)\n",
        "        return\n",
        "\n",
        "    backtrack(s, i + 1, slate, result)  # Exclude current character\n",
        "    slate.append(s[i])\n",
        "    backtrack(s, i + 1, slate, result)  # Include current character\n",
        "    slate.pop()\n",
        "\n",
        "# Example usage\n",
        "string = \"abac\"\n",
        "result = subsets_with_duplicates(string)\n",
        "print(result)\n",
        "\n",
        "\n",
        "\n"
      ],
      "metadata": {
        "id": "2AuDoMYAfnb-",
        "colab": {
          "base_uri": "https://localhost:8080/"
        },
        "outputId": "597ebbba-b26d-4e57-883c-0bd1d66394c4"
      },
      "execution_count": null,
      "outputs": [
        {
          "output_type": "stream",
          "name": "stdout",
          "text": [
            "['', 'c', 'b', 'bc', 'a', 'ac', 'ab', 'abc', 'aa', 'aac', 'aab', 'aabc']\n"
          ]
        }
      ]
    },
    {
      "cell_type": "code",
      "source": [
        "def two_sum(numbers, target):\n",
        "    \"\"\"\n",
        "    Args:\n",
        "     numbers(list_int32)\n",
        "     target(int32)\n",
        "    Returns:\n",
        "     list_int32\n",
        "    \"\"\"\n",
        "    # Write your code here.\n",
        "    if not numbers:\n",
        "        return [-1, -1]\n",
        "    aux = set()\n",
        "    for i in range(len(numbers)):\n",
        "      to_find = target - numbers[i]\n",
        "      if to_find not in aux:\n",
        "        aux.add(numbers[i])\n",
        "      else:\n",
        "        return [numbers.index(to_find), i]\n",
        "    return [-1, -1]\n",
        "two_sum([5, 3, 10, 45, 1], 6)"
      ],
      "metadata": {
        "colab": {
          "base_uri": "https://localhost:8080/"
        },
        "id": "HPiXZyqPfWqr",
        "outputId": "9cbebb68-30a6-4e6a-d095-5a11d95cca61"
      },
      "execution_count": null,
      "outputs": [
        {
          "output_type": "execute_result",
          "data": {
            "text/plain": [
              "[0, 4]"
            ]
          },
          "metadata": {},
          "execution_count": 2
        }
      ]
    },
    {
      "cell_type": "code",
      "source": [
        "import numpy as np\n",
        "my_array = np.array([1,3,6,7,10])\n",
        "print(my_array)\n",
        "\n",
        "arr = np.arange(1, 15, 2)"
      ],
      "metadata": {
        "colab": {
          "base_uri": "https://localhost:8080/"
        },
        "id": "H0_8G_4S3sL0",
        "outputId": "f525cb7e-6dc6-48d9-b6c9-3feec295e5ee"
      },
      "execution_count": null,
      "outputs": [
        {
          "output_type": "stream",
          "name": "stdout",
          "text": [
            "[ 1  3  6  7 10]\n"
          ]
        }
      ]
    }
  ],
  "metadata": {
    "colab": {
      "provenance": [],
      "include_colab_link": true
    },
    "kernelspec": {
      "display_name": "Python 3",
      "name": "python3"
    }
  },
  "nbformat": 4,
  "nbformat_minor": 0
}