{
  "cells": [
    {
      "cell_type": "code",
      "execution_count": null,
      "metadata": {
        "colab": {
          "base_uri": "https://localhost:8080/"
        },
        "id": "gPoBEa_xpah9",
        "outputId": "858d1a05-00f9-421d-e6ae-02b8c5213f6a"
      },
      "outputs": [
        {
          "data": {
            "text/plain": [
              "['R', 'R', 'G', 'G', 'G', 'G', 'B', 'B']"
            ]
          },
          "execution_count": 1,
          "metadata": {},
          "output_type": "execute_result"
        }
      ],
      "source": [
        "arr = [\"G\", \"B\", \"G\", \"G\", \"R\", \"B\", \"R\", \"G\"]\n",
        "def selection_sort(arr):\n",
        "    for i in range(len(arr)):\n",
        "        # Find the ith smallest element and swap it with arr[i]\n",
        "        min = i\n",
        "        for j in range(i, len(arr)):\n",
        "            if arr[j] >= arr[min]:\n",
        "                min = j\n",
        "        (arr[i],arr[min]) = (arr[min],arr[i])\n",
        "\n",
        "    return arr\n",
        "selection_sort([\"G\", \"B\", \"G\", \"G\", \"R\", \"B\", \"R\", \"G\"])"
      ]
    },
    {
      "cell_type": "code",
      "execution_count": null,
      "metadata": {
        "colab": {
          "base_uri": "https://localhost:8080/"
        },
        "id": "MsIdO55KLFTV",
        "outputId": "40314396-807c-4653-9884-2cad853712d1"
      },
      "outputs": [
        {
          "data": {
            "text/plain": [
              "[1, 3, 4, 5, 7, 8, 9]"
            ]
          },
          "execution_count": 3,
          "metadata": {},
          "output_type": "execute_result"
        }
      ],
      "source": [
        "#Given a list of numbers, sort it using the Bubble Sort algorithm.\n",
        "arr = [5, 8, 3, 9, 4, 1, 7]\n",
        "def bubble_sort(arr):\n",
        "    for start in range(len(arr)):\n",
        "        for i in range(len(arr)-1, start, -1):\n",
        "            if arr[i - 1] > arr[i]:\n",
        "                (arr[i - 1], arr[i]) = (arr[i], arr[i - 1])\n",
        "\n",
        "    return arr\n",
        "bubble_sort(arr)"
      ]
    },
    {
      "cell_type": "code",
      "execution_count": null,
      "metadata": {
        "colab": {
          "base_uri": "https://localhost:8080/"
        },
        "id": "lNCMvjRZCzfP",
        "outputId": "ab9b54b4-d862-4bac-9cd7-e1e1f2045d64"
      },
      "outputs": [
        {
          "data": {
            "text/plain": [
              "[1, 3, 4, 5, 7, 8, 9]"
            ]
          },
          "execution_count": 2,
          "metadata": {},
          "output_type": "execute_result"
        }
      ],
      "source": [
        "arr = [5, 8, 3, 9, 4, 1, 7]\n",
        "def helper(arr, start, end):\n",
        "  smaller = start\n",
        "  if start >= end:\n",
        "    return\n",
        "  for bigger_index in range(start + 1, end + 1):\n",
        "    if arr[bigger_index] < arr[start]:\n",
        "      smaller += 1\n",
        "      (arr[smaller], arr[bigger_index]) = (arr[bigger_index], arr[smaller])\n",
        "  (arr[smaller], arr[start]) = (arr[start], arr[smaller])\n",
        "  helper(arr, start, smaller - 1)\n",
        "  helper(arr, smaller + 1, end)\n",
        "  return arr\n",
        "helper(arr, 0, len(arr) -1)"
      ]
    },
    {
      "cell_type": "code",
      "execution_count": null,
      "metadata": {
        "colab": {
          "base_uri": "https://localhost:8080/"
        },
        "id": "tj4lxuhxAg_g",
        "outputId": "80b99d75-d8ee-4c03-9a62-a17d6ca3f9d6"
      },
      "outputs": [
        {
          "data": {
            "text/plain": [
              "[1, 3, 4, 5, 7, 8, 9]"
            ]
          },
          "execution_count": 7,
          "metadata": {},
          "output_type": "execute_result"
        }
      ],
      "source": [
        "import random\n",
        "def quick_sort(arr):\n",
        "    if len(arr) <= 1:\n",
        "        return arr\n",
        "    else:\n",
        "        pivot_index = random.randint(0,len(arr) - 1)\n",
        "        arr[0], arr[pivot_index] = arr[pivot_index], arr[0]\n",
        "        pivot = arr[0]\n",
        "        smalls = [x for x in arr[1:] if x <= pivot]\n",
        "        bigs = [x for x in arr[1:] if x > pivot]\n",
        "        return quick_sort(smalls) + [pivot] + quick_sort(bigs)\n",
        "quick_sort([5, 8, 3, 9, 4, 1, 7])\n"
      ]
    },
    {
      "cell_type": "code",
      "execution_count": null,
      "metadata": {
        "colab": {
          "base_uri": "https://localhost:8080/"
        },
        "id": "Uz2droRuDBFv",
        "outputId": "1efb914b-5a0c-48de-d70a-0228270aec03"
      },
      "outputs": [
        {
          "name": "stdout",
          "output_type": "stream",
          "text": [
            "[1, 1, 2, 3, 3, 4, 5, 5, 5, 6, 9]\n"
          ]
        }
      ],
      "source": [
        "arr = [4,9,13,6,1,10]\n",
        "import random\n",
        "def quick_sort_in_place(arr, low, high):\n",
        "    if low < high:\n",
        "        pivot_index = random.randint(low, high)\n",
        "        arr[pivot_index], arr[high] = arr[high], arr[pivot_index]\n",
        "        pivot = arr[high]\n",
        "        i = low - 1\n",
        "        for j in range(low, high):\n",
        "            if arr[j] <= pivot:\n",
        "                i += 1\n",
        "                arr[i], arr[j] = arr[j], arr[i]\n",
        "        arr[i + 1], arr[high] = arr[high], arr[i + 1]\n",
        "        pivot_index = i + 1\n",
        "        quick_sort_in_place(arr, low, pivot_index - 1)\n",
        "        quick_sort_in_place(arr, pivot_index + 1, high)\n",
        "my_list = [3, 1, 4, 1, 5, 9, 2, 6, 5, 3, 5]\n",
        "quick_sort_in_place(my_list, 0, len(my_list) - 1)\n",
        "print(my_list)"
      ]
    },
    {
      "cell_type": "code",
      "execution_count": null,
      "metadata": {
        "colab": {
          "base_uri": "https://localhost:8080/"
        },
        "id": "cU7P-Cujwrxr",
        "outputId": "9f26dba6-62b3-430f-d8a4-073363c96b73"
      },
      "outputs": [
        {
          "name": "stdout",
          "output_type": "stream",
          "text": [
            "[1, 1, 2, 3, 3, 4, 5, 5, 5, 6, 9]\n"
          ]
        }
      ],
      "source": [
        "import random\n",
        "def quick_sort_in_place(arr, low, high):\n",
        "    if low < high:\n",
        "        pivot_index = random.randint(low, high)\n",
        "        arr[pivot_index], arr[high] = arr[high], arr[pivot_index]\n",
        "        pivot = arr[high]\n",
        "        i = low - 1\n",
        "        for j in range(low, high):\n",
        "            if arr[j] <= pivot:\n",
        "                i += 1\n",
        "                arr[i], arr[j] = arr[j], arr[i]\n",
        "        arr[i + 1], arr[high] = arr[high], arr[i + 1]\n",
        "        pivot_index = i + 1\n",
        "        quick_sort_in_place(arr, low, pivot_index - 1)\n",
        "        quick_sort_in_place(arr, pivot_index + 1, high)\n",
        "# Example usage:\n",
        "my_list = [3, 1, 4, 1, 5, 9, 2, 6, 5, 3, 5]\n",
        "quick_sort_in_place(my_list, 0, len(my_list) - 1)\n",
        "print(my_list)"
      ]
    },
    {
      "cell_type": "code",
      "execution_count": null,
      "metadata": {
        "colab": {
          "base_uri": "https://localhost:8080/"
        },
        "id": "6CDFk_iGBYAi",
        "outputId": "406c2332-b14e-4709-af42-25721d8985f1"
      },
      "outputs": [
        {
          "data": {
            "text/plain": [
              "[4, 6, 10, 9, 1, 13]"
            ]
          },
          "execution_count": 2,
          "metadata": {},
          "output_type": "execute_result"
        }
      ],
      "source": [
        "numbers = [4,9,13,6,1,10]\n",
        "def segregate_evens_and_odds(numbers):\n",
        "    \"\"\"\n",
        "    Args:\n",
        "     numbers(list_int32)\n",
        "    Returns:\n",
        "     list_int32\n",
        "    \"\"\"\n",
        "    i = -1\n",
        "    for j in range(len(numbers)):\n",
        "        if numbers[j] % 2 == 0:\n",
        "            i += 1\n",
        "            numbers[i], numbers[j] = numbers[j], numbers[i]\n",
        "    return numbers\n",
        "segregate_evens_and_odds(numbers)"
      ]
    },
    {
      "cell_type": "code",
      "execution_count": null,
      "metadata": {
        "colab": {
          "base_uri": "https://localhost:8080/"
        },
        "id": "wS8yPzPKIspO",
        "outputId": "c960bc62-4606-4b77-af8d-684abf8bcb59"
      },
      "outputs": [
        {
          "name": "stdout",
          "output_type": "stream",
          "text": [
            "Arranged in 3 groups: ['R', 'R', 'G', 'G', 'G', 'G', 'B', 'B']\n"
          ]
        }
      ],
      "source": [
        "def quicksort_3groups(arr):\n",
        "    if len(arr) < 2:\n",
        "        return arr\n",
        "\n",
        "    pivot = arr[0]\n",
        "    lt, gt = 0, len(arr)\n",
        "\n",
        "    for i in range(gt):\n",
        "        if arr[i] < pivot:\n",
        "            arr[i], arr[lt] = arr[lt], arr[i]\n",
        "            lt += 1\n",
        "        elif arr[i] > pivot:\n",
        "            arr[i], arr[gt-1] = arr[gt-1], arr[i]\n",
        "            gt -= 1\n",
        "\n",
        "    return (\n",
        "        quicksort_3groups(arr[gt:]) +\n",
        "        [pivot] * (gt - lt) +\n",
        "        quicksort_3groups(arr[:lt])\n",
        "    )\n",
        "\n",
        "# Example usage\n",
        "letters = [\"G\", \"B\", \"G\", \"G\", \"R\", \"B\", \"R\", \"G\"]\n",
        "sorted_groups = quicksort_3groups(letters)\n",
        "print(\"Arranged in 3 groups:\", sorted_groups)"
      ]
    },
    {
      "cell_type": "code",
      "execution_count": null,
      "metadata": {
        "id": "f4HvXa69ucxl"
      },
      "outputs": [],
      "source": [
        "#Merge One Sorted Array Into Another\n",
        "# \"first\": [1, 3, 5],\n",
        "# \"second\": [2, 4, 6, 0, 0, 0]\n",
        "\n",
        "def merge_one_into_another(first, second):\n",
        "    \"\"\"\n",
        "    Args:\n",
        "     first(list_int32)\n",
        "     second(list_int32)\n",
        "    Returns:\n",
        "     list_int32\n",
        "    \"\"\"\n",
        "    i = len(first) - 1   #because both are sorted the highest elment of both is at the last index\n",
        "    j = len(first) - 1   #j is on the second list but since the lentgh is 2n and the sorted area is n like the first list we can assume the lentgh to be n like the first\n",
        "    k = len(second) - 1\n",
        "\n",
        "    while i>=0 and j>=0:\n",
        "        if second[j] > first[i]:\n",
        "            second[k] = second[j]\n",
        "            k -= 1\n",
        "            j -= 1\n",
        "        else:\n",
        "            second[k] = first[i]\n",
        "            k -= 1\n",
        "            i -= 1\n",
        "    while i>=0:\n",
        "        second[k] = first[i]\n",
        "        k -= 1\n",
        "        i -= 1\n",
        "\n",
        "    return second\n"
      ]
    },
    {
      "cell_type": "code",
      "execution_count": null,
      "metadata": {
        "colab": {
          "base_uri": "https://localhost:8080/"
        },
        "id": "GWZQihVU4H-i",
        "outputId": "0a50921a-3e7e-468b-b8f1-85cb91d865e2"
      },
      "outputs": [
        {
          "data": {
            "text/plain": [
              "[9, 8, 7, 5, 4, 1, 3]"
            ]
          },
          "execution_count": 2,
          "metadata": {},
          "output_type": "execute_result"
        }
      ],
      "source": [
        "arr = [5, 8, 3, 9, 4, 1, 7]\n",
        "def heap_sort(arr):\n",
        "    n = len(arr)\n",
        "    for i in range(n//2 - 1, -1, -1):\n",
        "        heapify(arr, n, i)\n",
        "    return arr\n",
        "\n",
        "def heapify(arr, n, i):\n",
        "    root = i\n",
        "    left = 2*i + 1\n",
        "    right = 2*i + 2\n",
        "\n",
        "    if left < n and arr[left] > arr[root]:\n",
        "        root = left\n",
        "\n",
        "    if right < n and arr[right] > arr[root]:\n",
        "        root = right\n",
        "\n",
        "    if root != i:\n",
        "        arr[i], arr[root] = arr[root], arr[i]\n",
        "        heapify(arr, n, root)\n",
        "heap_sort(arr)"
      ]
    },
    {
      "cell_type": "code",
      "execution_count": null,
      "metadata": {
        "colab": {
          "base_uri": "https://localhost:8080/"
        },
        "id": "dXdvt5X28yOR",
        "outputId": "5afb8e40-0901-49d9-c37c-46b4f7cefc20"
      },
      "outputs": [
        {
          "data": {
            "text/plain": [
              "(0, 9)"
            ]
          },
          "execution_count": 12,
          "metadata": {},
          "output_type": "execute_result"
        }
      ],
      "source": [
        "arr = [5, 8, 3, 9, 4, 1, 7, 2, 0]\n",
        "def sum2(arr):\n",
        "  y = 0\n",
        "  x = 9 - y\n",
        "  for i in range(len(arr)):\n",
        "    if x not in arr:\n",
        "      i += 1\n",
        "\n",
        "  return y, x\n",
        "\n",
        "sum2(arr)\n"
      ]
    },
    {
      "cell_type": "code",
      "execution_count": null,
      "metadata": {
        "colab": {
          "base_uri": "https://localhost:8080/"
        },
        "id": "YYQLa1ga3HxO",
        "outputId": "d2268a68-d080-4865-bcc2-b74451fb6797"
      },
      "outputs": [
        {
          "data": {
            "text/plain": [
              "16"
            ]
          },
          "execution_count": 1,
          "metadata": {},
          "output_type": "execute_result"
        }
      ],
      "source": [
        "#Given a number denoting the size of a set, count the number of unique subsets of that set.\n",
        "def count_all_subsets(n):\n",
        "    if n == 0:\n",
        "        return 1\n",
        "    else:\n",
        "        return 2 * count_all_subsets(n - 1)\n",
        "count_all_subsets(4)"
      ]
    },
    {
      "cell_type": "code",
      "execution_count": null,
      "metadata": {
        "colab": {
          "base_uri": "https://localhost:8080/"
        },
        "id": "CNavR9LJ5rGA",
        "outputId": "1fec6e71-7935-4636-cc76-a9c8ab99e5f0"
      },
      "outputs": [
        {
          "data": {
            "text/plain": [
              "55"
            ]
          },
          "execution_count": 5,
          "metadata": {},
          "output_type": "execute_result"
        }
      ],
      "source": [
        "def find_fibonacci(n, b1, b2):\n",
        "    \"\"\"\n",
        "    Args:\n",
        "     n(int32)\n",
        "    Returns:\n",
        "     int32\n",
        "    \"\"\"\n",
        "    if n == 0:\n",
        "        return b1\n",
        "    else:\n",
        "        return find_fibonacci(n-1, b2, b1 + b2)\n",
        "find_fibonacci(10, 0, 1)"
      ]
    },
    {
      "cell_type": "code",
      "execution_count": null,
      "metadata": {
        "colab": {
          "base_uri": "https://localhost:8080/"
        },
        "id": "-S6G1eDhA16S",
        "outputId": "3ce47e13-7882-48aa-d8b8-3f558dd6f6e7"
      },
      "outputs": [
        {
          "data": {
            "text/plain": [
              "55"
            ]
          },
          "execution_count": 8,
          "metadata": {},
          "output_type": "execute_result"
        }
      ],
      "source": [
        "def find_fibonacci(n):\n",
        "    return helper(n, 0, 1)\n",
        "\n",
        "def helper(n, b1, b2):\n",
        "  if n == 0:\n",
        "    return b1\n",
        "  else:\n",
        "    return helper(n-1, b2, b1+b2)\n",
        "find_fibonacci(10)\n"
      ]
    },
    {
      "cell_type": "code",
      "execution_count": null,
      "metadata": {
        "colab": {
          "base_uri": "https://localhost:8080/",
          "height": 391
        },
        "id": "MncguwCp9Jhc",
        "outputId": "eb877da2-2777-4fd4-842b-a4c6654367a9"
      },
      "outputs": [],
      "source": [
        "#find the kth largest element in an array\n",
        "import random\n",
        "arr = [5, 8, 3, 9, 4, 1, 7]\n",
        "def quickselect(arr, k, low, high):\n",
        "    k = len(arr) - k\n",
        "    pivot = random.randint(low, high)\n",
        "    arr[high], arr[pivot] = arr[pivot], arr[high]\n",
        "    i = low - 1\n",
        "    for j in range(low, high):\n",
        "        if arr[j] < arr[high]:\n",
        "            i += 1\n",
        "            arr[j], arr[i] = arr[i], arr[j]\n",
        "    arr[i+1], arr[high] = arr[high], arr[i+1]\n",
        "\n",
        "    if k > i+1:\n",
        "        return quickselect(arr, k, i+2, high)\n",
        "    elif k < i+1:\n",
        "        return quickselect(arr, k, low, i)\n",
        "    else:\n",
        "        return arr[i+1]\n",
        "\n",
        "result = quickselect(arr, 1, 0, len(arr)-1)\n",
        "print(result)\n"
      ]
    },
    {
      "cell_type": "code",
      "execution_count": null,
      "metadata": {
        "colab": {
          "base_uri": "https://localhost:8080/"
        },
        "id": "_03eRtCCTyPH",
        "outputId": "463cb3c4-7a76-4709-ed8a-fc6759c3448c"
      },
      "outputs": [
        {
          "name": "stdout",
          "output_type": "stream",
          "text": [
            "4\n"
          ]
        }
      ],
      "source": [
        "import random\n",
        "\n",
        "arr = [5, 8, 3, 9, 4, 1, 7]\n",
        "\n",
        "def quickselect(arr, k, low, high):\n",
        "    k = len(arr) - k\n",
        "    pivot = random.randint(low, high)\n",
        "    arr[pivot], arr[high] = arr[high], arr[pivot]\n",
        "    i = low - 1\n",
        "\n",
        "    for j in range(low, high):\n",
        "        if arr[j] < arr[high]:\n",
        "            i += 1\n",
        "            arr[j], arr[i] = arr[i], arr[j]\n",
        "\n",
        "    arr[i+1], arr[high] = arr[high], arr[i+1]\n",
        "\n",
        "    if k > i+1:\n",
        "        return quickselect(arr, k, i+2, high)\n",
        "    elif k < i+1:\n",
        "        return quickselect(arr, k, low, i)\n",
        "    else:\n",
        "        return arr[i+1]\n",
        "\n",
        "result = quickselect(arr, 5, 0, len(arr)-1)\n",
        "print(result)\n"
      ]
    },
    {
      "cell_type": "code",
      "execution_count": null,
      "metadata": {
        "colab": {
          "base_uri": "https://localhost:8080/"
        },
        "id": "UjlFjRLpXbTs",
        "outputId": "423e439e-ce45-4d40-b739-b06cd45f5119"
      },
      "outputs": [
        {
          "data": {
            "text/plain": [
              "['0', '1']"
            ]
          },
          "execution_count": 15,
          "metadata": {},
          "output_type": "execute_result"
        }
      ],
      "source": [
        "#Given a number n, generate all possible binary strings of length n.\n",
        "def get_binary_strings(n):\n",
        "    helper(\"\", n)\n",
        "    return my_list\n",
        "my_list = []\n",
        "def helper(slate, n):\n",
        "    if n == 0:\n",
        "        my_list.append(slate)\n",
        "        return\n",
        "    else:\n",
        "        helper(slate + \"0\", n-1)\n",
        "        helper(slate + \"1\", n-1)\n",
        "get_binary_strings(1)"
      ]
    },
    {
      "cell_type": "code",
      "execution_count": null,
      "metadata": {
        "colab": {
          "base_uri": "https://localhost:8080/"
        },
        "id": "tdyHXXsXZt94",
        "outputId": "87b6a2e8-cfb6-4a9c-eee5-c078761f6a6b"
      },
      "outputs": [
        {
          "data": {
            "text/plain": [
              "[[2, 4, 7], [2, 7, 4], [4, 2, 7], [4, 7, 2], [7, 2, 4], [7, 4, 2]]"
            ]
          },
          "execution_count": 9,
          "metadata": {},
          "output_type": "execute_result"
        }
      ],
      "source": [
        "#Given an array of unique numbers, return in any order all its permutations.\n",
        "lists = []\n",
        "arr = [2,4,7]\n",
        "def get_permutations(arr):\n",
        "   helper([], arr)\n",
        "   return lists\n",
        "\n",
        "def helper(slate, arr):\n",
        "    if not arr:\n",
        "        lists.append(slate)\n",
        "        return\n",
        "    else:\n",
        "        for i in range(len(arr)):\n",
        "            helper(slate  + [arr[i]], arr[:i] + arr[i+1:])\n",
        "get_permutations(arr)"
      ]
    },
    {
      "cell_type": "code",
      "execution_count": null,
      "metadata": {
        "colab": {
          "base_uri": "https://localhost:8080/"
        },
        "id": "VxEYWceuR8s-",
        "outputId": "5fea9866-bb46-4a61-914c-a28dc8081e92"
      },
      "outputs": [
        {
          "data": {
            "text/plain": [
              "[[],\n",
              " [4],\n",
              " [3],\n",
              " [3, 4],\n",
              " [2],\n",
              " [2, 4],\n",
              " [2, 3],\n",
              " [2, 3, 4],\n",
              " [1],\n",
              " [1, 4],\n",
              " [1, 3],\n",
              " [1, 3, 4],\n",
              " [1, 2],\n",
              " [1, 2, 4],\n",
              " [1, 2, 3],\n",
              " [1, 2, 3, 4]]"
            ]
          },
          "execution_count": 8,
          "metadata": {},
          "output_type": "execute_result"
        }
      ],
      "source": [
        "#Given a set distint integers nums return all subsets (the power set). Note:  the solution must not contain duplicates of subset\n",
        "nums = [1, 2, 3, 4]\n",
        "def numsubsets(nums):\n",
        "    result = []\n",
        "    helpere(nums, [], 0, result)\n",
        "    return result\n",
        "\n",
        "def helpere(s, slat, i, result):\n",
        "    if i == len(s):\n",
        "        result.append(slat[:])\n",
        "        return\n",
        "    else:\n",
        "        helpere(s, slat, i+1, result)\n",
        "        slat.append(s[i])\n",
        "        helpere(s, slat, i+1, result)\n",
        "        slat.pop()\n",
        "        return\n",
        "\n",
        "numsubsets(nums)"
      ]
    },
    {
      "cell_type": "code",
      "execution_count": null,
      "metadata": {
        "colab": {
          "base_uri": "https://localhost:8080/",
          "height": 391
        },
        "id": "n6tpM5G8h9P4",
        "outputId": "25e4d401-89b5-4e50-949e-8aba545f76ec"
      },
      "outputs": [],
      "source": [
        "nums = [1, 2, 3, 4]\n",
        "def numsubsets(nums):\n",
        "\n",
        "    result = []\n",
        "    helper(nums, [], result)\n",
        "    return result\n",
        "\n",
        "def helper(s, slate, result):\n",
        "\n",
        "    if len(slate) == 2:\n",
        "        result.append(slate[:])\n",
        "        return\n",
        "    else:\n",
        "        helper(s[1:], slate, result)\n",
        "        helper(s[1:], slate + [s[0]], result)\n",
        "\n",
        "\n",
        "numsubsets(nums)\n"
      ]
    },
    {
      "cell_type": "code",
      "execution_count": null,
      "metadata": {
        "colab": {
          "base_uri": "https://localhost:8080/"
        },
        "id": "6JozIGczbglK",
        "outputId": "43464f33-c4e1-4cdd-cf25-6d9563d644d2"
      },
      "outputs": [
        {
          "name": "stdout",
          "output_type": "stream",
          "text": [
            "[[1, 2, 3], [1, 2], [1, 3], [1], [2, 3], [2], [3], []]\n"
          ]
        }
      ],
      "source": [
        "def all_subsets(nums):\n",
        "    result = []\n",
        "    generate_subsets([], nums, result)\n",
        "    return result\n",
        "\n",
        "def generate_subsets(current_subset, remaining_nums, result):\n",
        "    # Base case: if there are no remaining elements, add the current subset to the result\n",
        "    if not remaining_nums:\n",
        "        result.append(current_subset)\n",
        "        return\n",
        "\n",
        "    # Recursive case: include the current element in the subset or skip it\n",
        "    generate_subsets(current_subset + [remaining_nums[0]], remaining_nums[1:], result)\n",
        "    generate_subsets(current_subset, remaining_nums[1:], result)\n",
        "\n",
        "nums = [1, 2, 3]\n",
        "result = all_subsets(nums)\n",
        "print(result)\n",
        "\n",
        "\n"
      ]
    },
    {
      "cell_type": "code",
      "execution_count": null,
      "metadata": {
        "colab": {
          "base_uri": "https://localhost:8080/"
        },
        "id": "69gY8qq2RzOF",
        "outputId": "9e5510aa-cf96-466c-fff7-d9810f0a9781"
      },
      "outputs": [
        {
          "data": {
            "text/plain": [
              "['a1b2', 'a1B2', 'A1b2', 'A1B2']"
            ]
          },
          "execution_count": 13,
          "metadata": {},
          "output_type": "execute_result"
        }
      ],
      "source": [
        "s = \"a1b2\"\n",
        "def stringcombi(s):\n",
        "    result = []\n",
        "    helper(s, 0, [], result)\n",
        "    return result\n",
        "\n",
        "def helper(s, i, slate, result):\n",
        "    if i == len(s):\n",
        "        result.append(''.join(slate))\n",
        "        return\n",
        "\n",
        "    else:\n",
        "        if s[i].isdigit():\n",
        "            slate.append(s[i])\n",
        "            helper(s, i+1, slate, result)\n",
        "            slate.pop()\n",
        "        else:\n",
        "            slate.append(s[i].lower())\n",
        "            helper(s, i+1, slate, result)\n",
        "            slate.pop()\n",
        "            slate.append(s[i].upper())\n",
        "            helper(s, i+1, slate, result)\n",
        "            slate.pop()\n",
        "stringcombi(s)"
      ]
    },
    {
      "cell_type": "code",
      "execution_count": null,
      "metadata": {
        "colab": {
          "base_uri": "https://localhost:8080/",
          "height": 356
        },
        "id": "Z6k4jEYC-3vM",
        "outputId": "397403b3-c442-4ec2-9dac-7b667c0bb350"
      },
      "outputs": [],
      "source": [
        "# Find all palindromic decompositions of a given string s.\n",
        "\n",
        "# A palindromic decomposition of string is a decomposition of the string into substrings, such that all those substrings are valid palindromes.\n",
        "s = \"abracadabra\"\n",
        "def generate_palindromic_decompositions(s):\n",
        "    helper(s, 0, [])\n",
        "    return result\n",
        "\n",
        "result = []\n",
        "def helper(s, i, slate):\n",
        "    if i == len(s):\n",
        "        result.append(''.join(slate[:]))\n",
        "        return\n",
        "\n",
        "    else:\n",
        "        for p in range(i, len(s)):\n",
        "            s[p],s[i] = s[i],s[p]\n",
        "\n",
        "            slate.append(s[i])\n",
        "            helper(s, i+1, slate)\n",
        "            slate.pop()\n",
        "            s[i],s[p] = s[p],s[i]\n",
        "generate_palindromic_decompositions(s)"
      ]
    },
    {
      "cell_type": "code",
      "execution_count": null,
      "metadata": {
        "id": "a-ACFLftJyFo"
      },
      "outputs": [],
      "source": [
        "def stringcombi(s):\n",
        "    result = []\n",
        "    helper(s, '')\n",
        "    return result\n",
        "def helper(sub, slate):\n",
        "    if not sub:\n",
        "        result.append(''.join(slate))\n",
        "        return\n",
        "    else:\n",
        "        char = sub[0]\n",
        "        if char.isalpha():\n",
        "            helper(sub[1:], slate + char.lower())\n",
        "            helper(sub[1:], slate + char.upper())\n",
        "        elif char.isdigit():\n",
        "            helper(sub[1:], slate + char)\n",
        "s = \"a1b2\"\n",
        "result = stringcombi(s)\n",
        "print(result)"
      ]
    },
    {
      "cell_type": "code",
      "execution_count": null,
      "metadata": {
        "colab": {
          "base_uri": "https://localhost:8080/"
        },
        "id": "YTY9eIhRbGGx",
        "outputId": "c21f543d-fc1c-4440-e4c6-98d8eae1556d"
      },
      "outputs": [],
      "source": [
        "#given n paires of parentheses write a function that generate all paires of well formed parentheses\n",
        "def parentheses(n):\n",
        "    result = []\n",
        "    helper(n, n, [], result)\n",
        "    return result\n",
        "\n",
        "def helper(rem_open, rem_close, slate, result):\n",
        "    if rem_close < rem_open or rem_open < 0 or rem_close < 0:\n",
        "        return\n",
        "\n",
        "    if rem_open == 0 and rem_close == 0:\n",
        "        result.append(\"\".join(slate[:]))\n",
        "        return\n",
        "    else:\n",
        "        slate.append(\"(\")\n",
        "        helper(rem_open - 1, rem_close, slate, result)\n",
        "        slate.pop()\n",
        "\n",
        "        slate.append(\")\")\n",
        "        helper(rem_open, rem_close -1, slate, result)\n",
        "        slate.pop()\n",
        "    return\n",
        "parentheses(4)\n",
        "\n"
      ]
    },
    {
      "cell_type": "code",
      "execution_count": null,
      "metadata": {
        "colab": {
          "base_uri": "https://localhost:8080/"
        },
        "id": "QHzxm3HTmLAz",
        "outputId": "df6d88e2-6619-477b-ecb1-4cc7e46a10b9"
      },
      "outputs": [],
      "source": [
        "def parentheses(n):\n",
        "    result = []\n",
        "    bracket_types = [\"(\", \")\", \"{\", \"}\", \"[\", \"]\"]\n",
        "    helper(n, n, [], result, bracket_types)\n",
        "    return result\n",
        "\n",
        "def helper(rem_open, rem_close, slate, result, bracket_types):\n",
        "    if rem_close < rem_open or rem_open < 0 or rem_close < 0:\n",
        "        return\n",
        "\n",
        "    if rem_open == 0 and rem_close == 0:\n",
        "        result.append(\"\".join(slate))\n",
        "        return\n",
        "\n",
        "    for bracket in bracket_types:\n",
        "        slate.append(bracket)\n",
        "        if bracket in [\"(\", \"{\", \"[\"]:\n",
        "            helper(rem_open - 1, rem_close, slate, result, bracket_types)\n",
        "        else:\n",
        "            helper(rem_open, rem_close - 1, slate, result, bracket_types)\n",
        "        slate.pop()\n",
        "\n",
        "parentheses(2)\n"
      ]
    },
    {
      "cell_type": "code",
      "execution_count": null,
      "metadata": {
        "id": "sSVYwneEsywn"
      },
      "outputs": [],
      "source": [
        "def check_if_sum_possible(arr, k):\n",
        "    \"\"\"\n",
        "    Args:\n",
        "     arr(list_int64)\n",
        "     k(int64)\n",
        "    Returns:\n",
        "     bool\n",
        "    \"\"\"\n",
        "    result = [False]\n",
        "    helper(arr, [], k, 0, result)\n",
        "    return result\n",
        "    if len(result) == 0:\n",
        "        return False\n",
        "    return True\n",
        "\n",
        "def helper(arr, slate, k, i, result):\n",
        "    for j in result:\n",
        "\n",
        "        result[0] = True\n",
        "        return\n",
        "\n",
        "    if i == len(arr):\n",
        "        return\n",
        "    else:\n",
        "        helper(arr, slate, k, i + 1, result)\n",
        "\n",
        "        slate.append(arr[i])\n",
        "        helper(arr, slate, k, i + 1, result)\n",
        "        slate.pop()\n",
        "\n",
        "# Example usage:\n",
        "arr = [1, 2, 3, 4, 5]\n",
        "k = 7\n",
        "result = check_if_sum_possible(arr, k)\n",
        "print(result)"
      ]
    },
    {
      "cell_type": "code",
      "execution_count": null,
      "metadata": {
        "id": "aiPoUr_bH161"
      },
      "outputs": [],
      "source": [
        "\"\"\"\n",
        "For your reference:\n",
        "class BinaryTreeNode:\n",
        "    def __init__(self, value):\n",
        "        self.value = value\n",
        "        self.left = None\n",
        "        self.right = None\n",
        "\"\"\"\n",
        "def all_paths_sum_k(root, k):\n",
        "    \"\"\"\n",
        "    Args:\n",
        "     root(BinaryTreeNode_int32)\n",
        "     k(int32)\n",
        "    Returns:\n",
        "     list_list_int32\n",
        "    \"\"\"\n",
        "    # Write your code here.\n",
        "\n",
        "    result = []\n",
        "    helper(root, k, [])\n",
        "    if len(result) == 0:\n",
        "        return [[-1]]\n",
        "    return result\n",
        "\n",
        "def helper(node, target, slate):\n",
        "    result = []\n",
        "    if node.left == None and node.right == None:\n",
        "        slate.append(node.value)\n",
        "        if target == node.value:\n",
        "            result.append(slate[:])\n",
        "        slate.pop()\n",
        "\n",
        "    slate.append(node.value)\n",
        "    if node.left:\n",
        "        helper(node.left, target - node.value, slate)\n",
        "    if node.right:\n",
        "        helper(node.right, target - node.value, slate)\n",
        "    slate.pop()"
      ]
    },
    {
      "cell_type": "code",
      "execution_count": null,
      "metadata": {
        "id": "kPM9_nfePqOU"
      },
      "outputs": [],
      "source": [
        "def all_paths_sum_k(root, k):\n",
        "    \"\"\"\n",
        "    Args:\n",
        "     root(BinaryTreeNode_int32)\n",
        "     k(int32)\n",
        "    Returns:\n",
        "     list_list_int32\n",
        "    \"\"\"\n",
        "    # Write your code here.\n",
        "    result = []\n",
        "    path_sum(root, k, [])\n",
        "    if len(result) == 0:\n",
        "        result = [[-1]]\n",
        "    return result\n",
        "    def path_sum(node, sum, path):\n",
        "        if node.left is None and node.right is None:\n",
        "            path.append(node.value)\n",
        "            if sum == node.value:\n",
        "                result.append(path.copy())\n",
        "            path.pop()\n",
        "        else:\n",
        "            path.append(node.value)\n",
        "            if node.left:\n",
        "                path_sum(node.left, sum-node.value, path)\n",
        "            if node.right:\n",
        "                path_sum(node.right, sum-node.value, path)\n",
        "            path.pop()\n",
        "\n"
      ]
    },
    {
      "cell_type": "code",
      "execution_count": null,
      "metadata": {
        "id": "-J66H3FDakwg"
      },
      "outputs": [],
      "source": [
        "#binary tree reconstruction\n",
        "head = [-1, 2, 3, 5, 6, 7, 10]\n",
        "\n",
        "#For your reference:\n",
        "class LinkedListNode:\n",
        "    def __init__(self, value):\n",
        "        self.value = value\n",
        "        self.next = None\n",
        "\n",
        "class BinaryTreeNode:\n",
        "    def __init__(self, value):\n",
        "        self.value = value\n",
        "        self.left = None\n",
        "        self.right = None\n",
        "\n",
        "def sorted_list_to_bst(head):\n",
        "    \"\"\"\n",
        "    Args:\n",
        "     head(LinkedListNode_int32)\n",
        "    Returns:\n",
        "     BinaryTreeNode_int32\n",
        "    \"\"\"\n",
        "    if not head:\n",
        "        return None\n",
        "    arr = []\n",
        "    while head:\n",
        "        arr.append(head.value)\n",
        "        head = head.next\n",
        "    def helper(start, end):\n",
        "        if start > end:\n",
        "            return None\n",
        "        mid = (start + end) // 2\n",
        "        root = BinaryTreeNode(arr[mid])\n",
        "        root.left = helper(start, mid - 1)\n",
        "        root.right = helper(mid + 1, end)\n",
        "        return root\n",
        "    return helper(0, len(arr) - 1)"
      ]
    },
    {
      "cell_type": "code",
      "execution_count": null,
      "metadata": {
        "id": "ZrjRa20v8A41"
      },
      "outputs": [],
      "source": [
        "#height of a tree\n",
        "\"\"\"\n",
        "For your reference:\n",
        "class TreeNode:\n",
        "    def __init__(self, value):\n",
        "        self.value = value\n",
        "        self.children = []\n",
        "\"\"\"\n",
        "def find_height(root):\n",
        "    \"\"\"\n",
        "    Args:\n",
        "     root(TreeNode_int32)\n",
        "    Returns:\n",
        "     int32\n",
        "    \"\"\"\n",
        "    # Write your code here.\n",
        "    if root == None:\n",
        "        return 0\n",
        "    if root.children == None:\n",
        "        return 0\n",
        "\n",
        "    height = 0\n",
        "\n",
        "    for child in root.children:\n",
        "        childheight = find_height(child) + 1\n",
        "        height = max(childheight, height)\n",
        "    return height"
      ]
    },
    {
      "cell_type": "code",
      "execution_count": null,
      "metadata": {
        "id": "RuVq6RK0Adeh"
      },
      "outputs": [],
      "source": [
        "#build binary tree from sorted aray\n",
        "\"\"\"\n",
        "For your reference:\n",
        "class BinaryTreeNode:\n",
        "    def __init__(self, value):\n",
        "        self.value = value\n",
        "        self.left = None\n",
        "        self.right = None\n",
        "\"\"\"\n",
        "def build_balanced_bst(a):\n",
        "    \"\"\"\n",
        "    Args:\n",
        "     a(list_int32)\n",
        "    Returns:\n",
        "     BinaryTreeNode_int32\n",
        "    \"\"\"\n",
        "    # Write your code here.\n",
        "    if a == None:\n",
        "        return None\n",
        "\n",
        "\n",
        "    def helper(a, start, end):\n",
        "        if start > end:\n",
        "            return None\n",
        "        mid = start + (end - start)//2\n",
        "        root = BinaryTreeNode(a[mid])\n",
        "        root.left = helper(a, start, mid - 1)\n",
        "        root.right = helper(a, mid + 1, end)\n",
        "        return root\n",
        "    return helper(a, 0, len(a) - 1)"
      ]
    },
    {
      "cell_type": "code",
      "execution_count": null,
      "metadata": {
        "id": "dIwbP4XurCVU"
      },
      "outputs": [],
      "source": [
        "def bfs_traversal(n, edges):\n",
        "    \"\"\"\n",
        "    Args:\n",
        "     n(int32)\n",
        "     edges(list_list_int32)\n",
        "    Returns:\n",
        "     list_int32\n",
        "    \"\"\"\n",
        "    result = []\n",
        "    visited = [0] * n\n",
        "    adj_list = [[] for i in range(n)]\n",
        "    for u,v in edges:\n",
        "        adj_list[u].append(v)\n",
        "        adj_list[v].append(u)\n",
        "\n",
        "    def bfs(v):\n",
        "        queue = []\n",
        "        queue.append(v)\n",
        "        visited[v] = 1\n",
        "        while len(queue):\n",
        "            vertex = queue.pop(0)\n",
        "            result.append(vertex)\n",
        "            for neighbor in adj_list[vertex]:\n",
        "                if visited[neighbor] == 0:\n",
        "                    queue.append(neighbor)\n",
        "                    visited[neighbor] = 1\n",
        "\n",
        "    # outer loop\n",
        "    for v in range(n):\n",
        "        if visited[v] == 0:\n",
        "            visited[v] = 1\n",
        "            bfs(v)\n",
        "\n",
        "    return result"
      ]
    },
    {
      "cell_type": "code",
      "execution_count": null,
      "metadata": {
        "id": "1kFJZ93FEY_o"
      },
      "outputs": [],
      "source": [
        "def dfs_traversal(n, edges):\n",
        "    \"\"\"\n",
        "    Args:\n",
        "     n(int32)\n",
        "     edges(list_list_int32)\n",
        "    Returns:\n",
        "     list_int32\n",
        "    \"\"\"\n",
        "    # Write your code here.\n",
        "    if n == 0:\n",
        "        return []\n",
        "\n",
        "    graph = [[] for _ in range(n)]\n",
        "    result = []\n",
        "    visited = [0]*n\n",
        "\n",
        "    for u,v in edges:\n",
        "        graph[u].append(v)\n",
        "        graph[v].append(u)\n",
        "\n",
        "    for i in range(n):\n",
        "        if visited[i] == 0:\n",
        "            dfs(i, graph, result, visited)\n",
        "    return result\n",
        "\n",
        "def dfs(s, graph, result, visited):\n",
        "    visited[s] = 1\n",
        "    result.append(s)\n",
        "    for j in graph[s]:\n",
        "        if visited[j] == 0:\n",
        "            dfs(j, graph, result, visited)"
      ]
    },
    {
      "cell_type": "code",
      "execution_count": null,
      "metadata": {
        "colab": {
          "base_uri": "https://localhost:8080/",
          "height": 141
        },
        "id": "48eS3lsgPSPV",
        "outputId": "f2da1e48-bc0e-43fb-8527-4544d8e62522"
      },
      "outputs": [],
      "source": [
        "def sum(arr, k)\n",
        "if not arr:\n",
        "        return False\n",
        "    return helper(arr, k, 0, [], result)\n",
        "\n",
        "\n",
        "\n",
        "def helper(arr, k, i, slate, result):\n",
        "    for i, values in enumerate(slate):\n",
        "        if sum(values) == k:\n",
        "           result.append(slate[:])\n",
        "           return True\n",
        "        else:\n",
        "            return False\n",
        "\n",
        "    for i in range(len(arr)):\n",
        "\n",
        "        helper(arr, k-arr[i], i+1, slate, result)\n",
        "\n",
        "        slate.append(arr[i])\n",
        "        helper(arr, k - arr[i], i+1, slate, result)\n",
        "        slate.pop()\n",
        "arr = [2,4,6]"
      ]
    },
    {
      "cell_type": "code",
      "execution_count": null,
      "metadata": {
        "id": "d-X7GSxbPURl"
      },
      "outputs": [],
      "source": [
        "def find_all_well_formed_brackets(n):\n",
        "    \"\"\"\n",
        "    Args:\n",
        "     n(int32)\n",
        "    Returns:\n",
        "     list_str\n",
        "    \"\"\"\n",
        "    # Write your code here.\n",
        "    if n == 0:\n",
        "        return []\n",
        "    result = []\n",
        "    helper(n, n, [], result)\n",
        "    return result\n",
        "\n",
        "def helper(remop, remclo, slate, result):\n",
        "    if remop > remclo or remclo < 0 or remop < 0:\n",
        "        return\n",
        "\n",
        "    if  remop == 0 and remclo == 0:\n",
        "        result.append(\"\".join(slate[:]))\n",
        "        return result\n",
        "\n",
        "\n",
        "    slate.append(\"(\")\n",
        "    helper(remop-1, remclo, slate, result)\n",
        "    slate.pop()\n",
        "\n",
        "    slate.append(\")\")\n",
        "    helper(remop, remclo - 1, slate, result)\n",
        "    slate.pop()"
      ]
    },
    {
      "cell_type": "code",
      "execution_count": null,
      "metadata": {
        "id": "COw3uqE7vwVC"
      },
      "outputs": [],
      "source": [
        "def is_it_a_tree(node_count, edge_start, edge_end):\n",
        "    if node_count == 0:\n",
        "        return False\n",
        "    graph = [[] for _ in range(node_count)]\n",
        "    visited = [0] * node_count\n",
        "    parent = [0] * node_count\n",
        "\n",
        "    # Build the graph\n",
        "    for u, v in zip(edge_start, edge_end):\n",
        "        graph[u].append(v)\n",
        "        graph[v].append(u)\n",
        "\n",
        "    def bfs(source):\n",
        "        q = [source]\n",
        "        visited[source] = 1\n",
        "\n",
        "        while q:\n",
        "            node = q.pop(0)\n",
        "\n",
        "            for nei in graph[node]:\n",
        "                if visited[nei] == 0:\n",
        "                    visited[nei] = 1\n",
        "                    parent[nei] = node\n",
        "                    q.append(nei)\n",
        "                elif nei != parent[node]:\n",
        "                    return True\n",
        "\n",
        "        return True\n",
        "\n",
        "    component = 0\n",
        "    for v in range(node_count):\n",
        "        if visited[v] == 0:\n",
        "            visited[v] = 1\n",
        "            component += 1\n",
        "\n",
        "            if component > 1:\n",
        "                return False\n",
        "\n",
        "            if not bfs(v):\n",
        "                return False\n",
        "\n",
        "    return True"
      ]
    },
    {
      "cell_type": "code",
      "execution_count": null,
      "metadata": {
        "id": "nes94luDRxY5"
      },
      "outputs": [],
      "source": [
        "def can_be_completed(n, a, b):\n",
        "    \"\"\"\n",
        "    Args:\n",
        "     n(int32)\n",
        "     a(list_int32)\n",
        "     b(list_int32)\n",
        "    Returns:\n",
        "     bool\n",
        "    \"\"\"\n",
        "    # Write your code here.\n",
        "    adj_list = [[] for i in range(n)]\n",
        "    for src, dst in zip(a,b):\n",
        "        adj_list[src].append(dst)\n",
        "\n",
        "    visited = [0]*n # 1 when enter the call stack and 2 when exit\n",
        "\n",
        "    # return True if cycle detected\n",
        "    def dfs(vertex):\n",
        "        visited[vertex] = 1\n",
        "        for neighbor in adj_list[vertex]:\n",
        "            if visited[neighbor] == 0:\n",
        "                if dfs(neighbor):\n",
        "                    return True\n",
        "            else:\n",
        "                if visited[neighbor] == 1:\n",
        "                    return True\n",
        "        visited[vertex] = 2\n",
        "        return False\n",
        "\n",
        "    for vertex in range(n):\n",
        "        if visited[vertex] == 0:\n",
        "            if dfs(vertex):\n",
        "                return False\n",
        "\n",
        "    return True"
      ]
    },
    {
      "cell_type": "code",
      "execution_count": null,
      "metadata": {
        "colab": {
          "base_uri": "https://localhost:8080/"
        },
        "id": "bb5y8_W5gLEw",
        "outputId": "42c2622d-9612-4468-f271-00a85e8dfd82"
      },
      "outputs": [
        {
          "name": "stdout",
          "output_type": "stream",
          "text": [
            "[8, 6, 11, 23, 1, 0, 0, 0, 0]\n"
          ]
        }
      ],
      "source": [
        "arr = [0, 8, 0, 6, 11, 0, 23, 0, 1]\n",
        "\n",
        "def move_zeros(arr):\n",
        "    j = 0\n",
        "    for i in range(len(arr)):\n",
        "        if arr[i] != 0:\n",
        "            arr[i], arr[j] = arr[j], arr[i]\n",
        "            j += 1\n",
        "    return arr\n",
        "\n",
        "move_zeros(arr)\n",
        "print(arr)\n",
        "\n",
        "\n"
      ]
    },
    {
      "cell_type": "code",
      "execution_count": null,
      "metadata": {
        "colab": {
          "base_uri": "https://localhost:8080/"
        },
        "id": "FV3ayF2epg3d",
        "outputId": "752017ef-af1b-452b-ef64-43a6fa4dfdd0"
      },
      "outputs": [
        {
          "data": {
            "text/plain": [
              "12"
            ]
          },
          "execution_count": 20,
          "metadata": {},
          "output_type": "execute_result"
        }
      ],
      "source": [
        "def quickselect(arr, k):\n",
        "    if len(arr) == 1:\n",
        "        return arr[0]\n",
        "\n",
        "    pivot_index = len(arr) - 1\n",
        "\n",
        "    i = -1\n",
        "\n",
        "    for j in range(len(arr) - 1):\n",
        "        if arr[j] <= arr[pivot_index]:\n",
        "            i += 1\n",
        "            arr[i], arr[j] = arr[j], arr[i]\n",
        "\n",
        "    arr[i + 1], arr[pivot_index] = arr[pivot_index], arr[i + 1]\n",
        "    pivot_index = i + 1\n",
        "\n",
        "    if i+1 == k:\n",
        "        return arr[pivot_index]\n",
        "\n",
        "    if i + 1 > k:\n",
        "        return quickselect(arr[:i + 1], k)\n",
        "    else:\n",
        "        return quickselect(arr[i + 2:], k - i - 2)\n",
        "\n",
        "arr = [6, 2, 4, 0, 12, 9]\n",
        "quickselect(arr, 1)"
      ]
    },
    {
      "cell_type": "code",
      "execution_count": null,
      "metadata": {
        "colab": {
          "base_uri": "https://localhost:8080/"
        },
        "id": "vzi5WQWYlI3A",
        "outputId": "e5c1729a-4e0a-4ea4-9dfb-f0488d60ef6d"
      },
      "outputs": [
        {
          "data": {
            "text/plain": [
              "[1, 1, 1, 4, 5, 6]"
            ]
          },
          "execution_count": 22,
          "metadata": {},
          "output_type": "execute_result"
        }
      ],
      "source": [
        "nums = [1,5,1,1,6,4]\n",
        "from random import randint\n",
        "def wiggleSort(nums):\n",
        "    \"\"\"\n",
        "    :type nums: List[int]\n",
        "    :rtype: None Do not return anything, modify nums in-place instead.\n",
        "    \"\"\"\n",
        "    if len(nums) <= 1:\n",
        "        return nums\n",
        "    pivot_index = randint(0, len(nums) - 1)\n",
        "    nums[-1], nums[pivot_index] = nums[-1], nums[pivot_index]\n",
        "\n",
        "    pivot = nums[-1]\n",
        "    i = -1\n",
        "    for j in range(len(nums)-1):\n",
        "        if nums[j] <= pivot:\n",
        "            i += 1\n",
        "            nums[j], nums[i] = nums[i], nums[j]\n",
        "    nums[i + 1], nums[-1] = nums[-1], nums[i + 1]\n",
        "\n",
        "    return wiggleSort(nums[:i + 1]) + [pivot] + wiggleSort(nums[i + 2:])\n",
        "\n",
        "wiggleSort(nums)"
      ]
    },
    {
      "cell_type": "code",
      "execution_count": null,
      "metadata": {
        "colab": {
          "base_uri": "https://localhost:8080/"
        },
        "id": "uiZX8frXxic9",
        "outputId": "916ab7ae-1316-4839-fa9a-d24767270c66"
      },
      "outputs": [
        {
          "name": "stdout",
          "output_type": "stream",
          "text": [
            "[1, 6, 1, 5, 1, 4]\n"
          ]
        }
      ],
      "source": [
        "def wiggleSort(nums):\n",
        "    \"\"\"\n",
        "    :type nums: List[int]\n",
        "    :rtype: None Do not return anything, modify nums in-place instead.\n",
        "    \"\"\"\n",
        "    nums.sort()  # Step 1\n",
        "\n",
        "    n = len(nums)\n",
        "    mid = n // 2\n",
        "    smaller, larger = nums[:mid], nums[mid:]\n",
        "    index = 0\n",
        "    for i in range(mid):\n",
        "        nums[index] = smaller[mid - 1 - i]\n",
        "        nums[index + 1] = larger[mid - 1 - i]\n",
        "        index += 2\n",
        "\n",
        "    if n % 2 != 0:\n",
        "        nums[-1] = smaller[0]\n",
        "\n",
        "# Example usage:\n",
        "nums = [1, 5, 1, 1, 6, 4]\n",
        "wiggleSort(nums)\n",
        "print(nums)\n",
        "\n"
      ]
    },
    {
      "cell_type": "code",
      "execution_count": null,
      "metadata": {
        "colab": {
          "base_uri": "https://localhost:8080/"
        },
        "id": "yOapznxfYF0U",
        "outputId": "f6ca4878-4187-44c5-e509-d63a108a98a7"
      },
      "outputs": [
        {
          "data": {
            "text/plain": [
              "58"
            ]
          },
          "execution_count": 20,
          "metadata": {},
          "output_type": "execute_result"
        }
      ],
      "source": [
        "arr = [34, 23, 1, 24, 75, 33, 54, 8]\n",
        "def twosumlessthanK(arr, k):\n",
        "    if len(arr) <= 1:\n",
        "        return -1\n",
        "\n",
        "    arr.sort()\n",
        "    result = -1\n",
        "\n",
        "    for i in range(len(arr)):\n",
        "        for j in range(i+1, len(arr) - 1):\n",
        "            s = arr[i] + arr[j]\n",
        "            if s < k:\n",
        "                result = max(result, s)\n",
        "    return result\n",
        "twosumlessthanK(arr, 60)"
      ]
    },
    {
      "cell_type": "code",
      "execution_count": null,
      "metadata": {
        "id": "19IMefQjoPwY"
      },
      "outputs": [],
      "source": [
        "def twosumlessthanK(arr, k):\n",
        "    if len(arr) <= 1:\n",
        "        return -1\n",
        "    arr.sort()\n",
        "    left, right = 0, len(arr) - 1\n",
        "    result = -1\n",
        "    while left < right:\n",
        "        current_sum = arr[left] + arr[right]\n",
        "        if current_sum < k:\n",
        "            result = max(result, current_sum)\n",
        "            left += 1\n",
        "        else:\n",
        "            right -= 1\n",
        "    return result\n",
        "arr = [10, 20, 30]\n",
        "result = twosumlessthanK(arr, 15)\n",
        "print(result)"
      ]
    },
    {
      "cell_type": "code",
      "execution_count": null,
      "metadata": {
        "colab": {
          "base_uri": "https://localhost:8080/"
        },
        "id": "qLP8KW0CtFjQ",
        "outputId": "52bdc5d4-b9d3-457c-e645-d9d670ac5013"
      },
      "outputs": [
        {
          "name": "stdout",
          "output_type": "stream",
          "text": [
            "True\n"
          ]
        }
      ],
      "source": [
        "def isToeplitz(arr):\n",
        "    \"\"\"\n",
        "    @param arr: int[][]\n",
        "    @return: bool\n",
        "    \"\"\"\n",
        "\n",
        "    if len(arr) <= 1:\n",
        "        return True\n",
        "    if len(arr[0]) <= 1:\n",
        "        return True\n",
        "\n",
        "    for i in range(len(arr) - 1):\n",
        "        for j in range(len(arr[0]) - 1):\n",
        "            if arr[i][j] != arr[i + 1][j + 1]:\n",
        "                return False\n",
        "    return True\n",
        "\n",
        "arr = [[1, 2, 3, 4],\n",
        "      [5, 1, 2, 3],\n",
        "      [9, 5, 1, 2]]\n",
        "\n",
        "print(isToeplitz(arr))\n"
      ]
    },
    {
      "cell_type": "code",
      "execution_count": null,
      "metadata": {
        "id": "f8ll9wHAVXQ7"
      },
      "outputs": [],
      "source": [
        "def heapify(arr, n, i):\n",
        "    # Find largest among root and children\n",
        "    largest = i\n",
        "    l = 2 * i + 1\n",
        "    r = 2 * i + 2\n",
        "    if l < n and arr[i] < arr[l]:\n",
        "        largest = l\n",
        "    if r < n and arr[largest] < arr[r]:\n",
        "        largest = r\n",
        "    # If root is not largest, swap with largest and continue heapifying\n",
        "    if largest != i:\n",
        "        arr[i], arr[largest] = arr[largest], arr[i]\n",
        "        heapify(arr, n, largest)\n",
        "\n",
        "def heap_sort(arr):\n",
        "    n = len(arr)\n",
        "    # Build max heap\n",
        "    for i in range(n // 2, -1, -1):\n",
        "        heapify(arr, n, i)\n",
        "    for i in range(n - 1, 0, -1):\n",
        "        # Swap\n",
        "        arr[i], arr[0] = arr[0], arr[i]\n",
        "        # Heapify root element\n",
        "        heapify(arr, i, 0)\n",
        "    return arr"
      ]
    },
    {
      "cell_type": "code",
      "execution_count": null,
      "metadata": {
        "colab": {
          "base_uri": "https://localhost:8080/"
        },
        "id": "ai2hDXRXOe-s",
        "outputId": "50176643-56d6-45ca-ae7c-5868afd69fa5"
      },
      "outputs": [
        {
          "data": {
            "text/plain": [
              "4"
            ]
          },
          "execution_count": 10,
          "metadata": {},
          "output_type": "execute_result"
        }
      ],
      "source": [
        "arr = [25, 35, 872, 228, 53, 278, 872]\n",
        "def count_digit_anagram_pairs(arr):\n",
        "    count = 0\n",
        "    sorted_strings = []\n",
        "\n",
        "    for num in arr:\n",
        "        sorted_str = ''.join(sorted(str(num)))\n",
        "        count += sorted_strings.count(sorted_str)\n",
        "        sorted_strings.append(sorted_str)\n",
        "    return count\n",
        "\n",
        "count_digit_anagram_pairs(arr)"
      ]
    }
  ],
  "metadata": {
    "colab": {
      "authorship_tag": "ABX9TyMHRJQ0pEZ21E2X7/OvXQLW",
      "provenance": []
    },
    "kernelspec": {
      "display_name": "Python 3",
      "name": "python3"
    },
    "language_info": {
      "name": "python"
    }
  },
  "nbformat": 4,
  "nbformat_minor": 0
}
